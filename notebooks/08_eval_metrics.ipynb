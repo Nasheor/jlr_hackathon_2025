{
 "cells": [
  {
   "metadata": {
    "ExecuteTime": {
     "end_time": "2025-06-12T18:57:35.820310Z",
     "start_time": "2025-06-12T18:57:22.556402Z"
    }
   },
   "cell_type": "code",
   "source": [
    "#!/usr/bin/env python3\n",
    "\"\"\"\n",
    "Scan every .c / .cpp file in a directory tree with identify_cwe()\n",
    "and write the results (including filename) to a CSV.\n",
    "\"\"\"\n",
    "import sys\n",
    "import csv\n",
    "import pathlib\n",
    "from src.eval_demo import identify_cwe   # ← make sure detect_cwe.py is on PYTHONPATH\n",
    "\n",
    "# ---------------------------------------------------------------------------\n",
    "def scan_directory(src_dir: pathlib.Path) -> list[dict]:\n",
    "    \"\"\"Return a list of result-dicts for all C / C++ files under src_dir.\"\"\"\n",
    "    records: list[dict] = []\n",
    "    patterns = (\"*.c\", \"*.cpp\", \"*.cc\", \"*.cxx\", \"*.h\", \"*.hpp\")\n",
    "    files = [p for pat in patterns for p in src_dir.rglob(pat)]\n",
    "    if not files:\n",
    "        print(f\"[WARN] No C/C++ files found in {src_dir}\")\n",
    "        return records\n",
    "\n",
    "    print(f\"Scanning {len(files)} files …\")\n",
    "    for path in files:\n",
    "        code = path.read_text(encoding=\"utf-8\", errors=\"ignore\")\n",
    "        res  = identify_cwe(code)\n",
    "        res[\"file\"] = str(path.relative_to(src_dir))  # nice relative path\n",
    "        records.append(res)\n",
    "    return records\n",
    "\n",
    "# ---------------------------------------------------------------------------\n",
    "def write_csv(records: list[dict], csv_path: pathlib.Path):\n",
    "    if not records:\n",
    "        print(\"Nothing to write (no records).\")\n",
    "        return\n",
    "    fieldnames = [\"file\", \"nearest_cwe\", \"is_vulnerable\",\n",
    "                  \"severity\", \"vulnerable_code\"]\n",
    "    with csv_path.open(\"w\", newline=\"\", encoding=\"utf-8\") as f:\n",
    "        writer = csv.DictWriter(f, fieldnames=fieldnames)\n",
    "        writer.writeheader()\n",
    "        writer.writerows(records)\n",
    "    print(f\"✅  Results written → {csv_path}\")\n",
    "\n",
    "# ---------------------------------------------------------------------------\n",
    "def main():\n",
    "    src_dir  = pathlib.Path(\"../data/test\")\n",
    "    if not src_dir.is_dir():\n",
    "        print(f\"Error: {src_dir} is not a directory\")\n",
    "        sys.exit(1)\n",
    "\n",
    "    csv_out  = pathlib.Path(\"../data/results/cwe_scan_results.csv\")\n",
    "\n",
    "    records  = scan_directory(src_dir)\n",
    "    write_csv(records, csv_out)\n",
    "\n",
    "main()\n"
   ],
   "id": "ae369a7dbc2d9d20",
   "outputs": [
    {
     "name": "stdout",
     "output_type": "stream",
     "text": [
      "Scanning 11 files …\n",
      "✅  Results written → ..\\data\\results\\cwe_scan_results.csv\n"
     ]
    }
   ],
   "execution_count": 7
  }
 ],
 "metadata": {
  "kernelspec": {
   "display_name": "Python 3",
   "language": "python",
   "name": "python3"
  },
  "language_info": {
   "codemirror_mode": {
    "name": "ipython",
    "version": 2
   },
   "file_extension": ".py",
   "mimetype": "text/x-python",
   "name": "python",
   "nbconvert_exporter": "python",
   "pygments_lexer": "ipython2",
   "version": "2.7.6"
  }
 },
 "nbformat": 4,
 "nbformat_minor": 5
}
