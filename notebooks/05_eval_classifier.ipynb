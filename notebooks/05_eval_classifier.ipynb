{
 "cells": [
  {
   "cell_type": "code",
   "id": "initial_id",
   "metadata": {
    "collapsed": true,
    "ExecuteTime": {
     "end_time": "2025-06-12T02:48:40.936721Z",
     "start_time": "2025-06-12T02:47:55.377286Z"
    }
   },
   "source": [
    "# %% [markdown]\n",
    "# ## Task 5 – Evaluation & Threshold Sweep\n",
    "# Uses the `test.jsonl` split to measure real-world performance and pick an\n",
    "# operating threshold for the live scanner.\n",
    "\n",
    "# %% [code] ▸ 0 Imports & paths\n",
    "import json, pathlib, datetime\n",
    "import numpy as np, pandas as pd\n",
    "from tqdm.auto import tqdm\n",
    "from sklearn.metrics import (\n",
    "    precision_recall_fscore_support, confusion_matrix, classification_report\n",
    ")\n",
    "import matplotlib.pyplot as plt\n",
    "from transformers import AutoTokenizer\n",
    "import torch, time\n",
    "\n",
    "from src.eval_utils import load_adapter, batched_logits\n",
    "\n",
    "MODEL_DIR  = pathlib.Path(\"../models/codebert_mini_lora\")\n",
    "TEST_FILE  = pathlib.Path(\"../data/splits/test.jsonl\")\n",
    "REPORT_DIR = pathlib.Path(\"reports\"); REPORT_DIR.mkdir(exist_ok=True)\n",
    "\n",
    "DEVICE = \"cuda\" if torch.cuda.is_available() else \"cpu\"\n",
    "print(\"Device:\", DEVICE)\n",
    "\n",
    "# %% [code] ▸ 1 Load test split\n",
    "with TEST_FILE.open() as f:\n",
    "    records = [json.loads(l) for l in f]\n",
    "df = pd.DataFrame(records)\n",
    "print(\"Test size:\", len(df))\n",
    "\n",
    "# %% [code] ▸ 2 Load model + tokenizer\n",
    "tokenizer = AutoTokenizer.from_pretrained(\"microsoft/codebert-base\")\n",
    "model     = load_adapter(MODEL_DIR, device=DEVICE)\n",
    "\n",
    "# %% [code] ▸ 3 Get logits & probabilities\n",
    "logits = batched_logits(model, tokenizer, df[\"Function before\"].tolist(),\n",
    "                        batch_size=16, device=DEVICE)\n",
    "prob_vuln = torch.softmax(torch.tensor(logits), dim=-1)[:,1].numpy()\n",
    "df[\"prob_vuln\"] = prob_vuln\n",
    "\n",
    "# %% [code] ▸ 4 Threshold sweep\n",
    "ths  = np.linspace(0.05, 0.95, 19)\n",
    "rows = []\n",
    "y_true = df[\"is_vuln\"].values\n",
    "for t in ths:\n",
    "    y_pred = (prob_vuln >= t).astype(int)\n",
    "    p,r,f,_ = precision_recall_fscore_support(y_true, y_pred, average=\"binary\", zero_division=0)\n",
    "    rows.append(dict(threshold=t, precision=p, recall=r, f1=f))\n",
    "sweep = pd.DataFrame(rows)\n",
    "best_row = sweep.loc[sweep.f1.idxmax()]\n",
    "best_t   = best_row.threshold\n",
    "print(\"Best threshold =\", best_t, \"→ F1 =\", best_row.f1.round(3))\n",
    "\n",
    "# %% [code] ▸ 5 Confusion matrix at best-t\n",
    "y_pred_best = (prob_vuln >= best_t).astype(int)\n",
    "cm = confusion_matrix(y_true, y_pred_best)\n",
    "print(\"Confusion matrix (TN, FP / FN, TP)\\n\", cm)\n",
    "\n",
    "# quick visual\n",
    "plt.figure(figsize=(3,3))\n",
    "plt.imshow(cm, cmap=\"Blues\"); plt.title(\"Confusion Matrix\"); plt.colorbar()\n",
    "for (i,j), val in np.ndenumerate(cm):\n",
    "    plt.text(j, i, str(val), ha=\"center\", va=\"center\", color=\"white\")\n",
    "plt.xticks([0,1],[\"Clean\",\"Vuln\"]); plt.yticks([0,1],[\"Clean\",\"Vuln\"])\n",
    "plt.xlabel(\"Predicted\"); plt.ylabel(\"True\")\n",
    "plt.show()\n",
    "\n",
    "# %% [code] ▸ 6 Latency test (100 slices)\n",
    "n_lat_test = min(100, len(df))\n",
    "subset = (\n",
    "    df[\"Function before\"]\n",
    "      .sample(n_lat_test, random_state=42, replace=False)   # safe now\n",
    "      .tolist()\n",
    ")\n",
    "\n",
    "t0 = time.time()\n",
    "_   = batched_logits(model, tokenizer, subset, batch_size=16, device=DEVICE)\n",
    "lat = (time.time() - t0) / len(subset)\n",
    "print(f\"Average latency = {lat*1000:.1f} ms/function\")\n",
    "\n",
    "# %% [code] ▸ 7 Write markdown report\n",
    "stamp = datetime.datetime.now().strftime(\"%Y-%m-%d\")\n",
    "md = REPORT_DIR / f\"eval_{stamp}.md\"\n",
    "with md.open(\"w\") as w:\n",
    "    w.write(f\"# Evaluation – {stamp}\\n\\n\")\n",
    "    w.write(f\"**Best threshold**: `{best_t:.2f}`\\n\\n\")\n",
    "    w.write(sweep.to_markdown(index=False))\n",
    "    w.write(\"\\n\\n```text\\n\")\n",
    "    w.write(classification_report(y_true, y_pred_best, digits=3))\n",
    "    w.write(\"\\n```\\n\")\n",
    "    w.write(f\"\\nConfusion matrix:\\n\\n```\\n{cm}\\n```\\n\")\n",
    "    w.write(f\"\\nAverage latency: {lat*1000:.1f} ms/function\\n\")\n",
    "\n",
    "print(\"✅ Report saved →\", md)\n",
    "# %% [markdown] ----------------------------------------------------------\n",
    "# Task 5 – CVSS Regressor\n",
    "# Uses the frozen CodeBERT encoder + a 2-layer MLP head to predict a\n",
    "# CVSS v3 score (0–10).  Expected runtime: <15 min on RTX-3060.\n",
    "\n",
    "# %% [code] 0 Imports & paths\n"
   ],
   "outputs": [
    {
     "name": "stdout",
     "output_type": "stream",
     "text": [
      "Device: cpu\n",
      "Test size: 71\n"
     ]
    },
    {
     "name": "stderr",
     "output_type": "stream",
     "text": [
      "Some weights of RobertaForSequenceClassification were not initialized from the model checkpoint at microsoft/codebert-base and are newly initialized: ['classifier.dense.bias', 'classifier.dense.weight', 'classifier.out_proj.bias', 'classifier.out_proj.weight']\n",
      "You should probably TRAIN this model on a down-stream task to be able to use it for predictions and inference.\n"
     ]
    },
    {
     "name": "stdout",
     "output_type": "stream",
     "text": [
      "Best threshold = 0.05 → F1 = 0.66\n",
      "Confusion matrix (TN, FP / FN, TP)\n",
      " [[ 0 36]\n",
      " [ 0 35]]\n"
     ]
    },
    {
     "data": {
      "text/plain": [
       "<Figure size 300x300 with 2 Axes>"
      ],
      "image/png": "[encoded data removed]"
     },
     "metadata": {},
     "output_type": "display_data"
    },
    {
     "name": "stdout",
     "output_type": "stream",
     "text": [
      "Average latency = 297.6 ms/function\n",
      "✅ Report saved → reports\\eval_2025-06-12.md\n"
     ]
    },
    {
     "name": "stderr",
     "output_type": "stream",
     "text": [
      "C:\\Users\\nagar\\anaconda3\\envs\\hackathon_2025\\Lib\\site-packages\\sklearn\\metrics\\_classification.py:1706: UndefinedMetricWarning: Precision is ill-defined and being set to 0.0 in labels with no predicted samples. Use `zero_division` parameter to control this behavior.\n",
      "  _warn_prf(average, modifier, f\"{metric.capitalize()} is\", result.shape[0])\n",
      "C:\\Users\\nagar\\anaconda3\\envs\\hackathon_2025\\Lib\\site-packages\\sklearn\\metrics\\_classification.py:1706: UndefinedMetricWarning: Precision is ill-defined and being set to 0.0 in labels with no predicted samples. Use `zero_division` parameter to control this behavior.\n",
      "  _warn_prf(average, modifier, f\"{metric.capitalize()} is\", result.shape[0])\n",
      "C:\\Users\\nagar\\anaconda3\\envs\\hackathon_2025\\Lib\\site-packages\\sklearn\\metrics\\_classification.py:1706: UndefinedMetricWarning: Precision is ill-defined and being set to 0.0 in labels with no predicted samples. Use `zero_division` parameter to control this behavior.\n",
      "  _warn_prf(average, modifier, f\"{metric.capitalize()} is\", result.shape[0])\n"
     ]
    }
   ],
   "execution_count": 12
  }
 ],
 "metadata": {
  "kernelspec": {
   "display_name": "Python 3",
   "language": "python",
   "name": "python3"
  },
  "language_info": {
   "codemirror_mode": {
    "name": "ipython",
    "version": 2
   },
   "file_extension": ".py",
   "mimetype": "text/x-python",
   "name": "python",
   "nbconvert_exporter": "python",
   "pygments_lexer": "ipython2",
   "version": "2.7.6"
  }
 },
 "nbformat": 4,
 "nbformat_minor": 5
}
