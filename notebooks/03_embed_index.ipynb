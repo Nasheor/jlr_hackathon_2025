{
 "cells": [
  {
   "cell_type": "code",
   "id": "initial_id",
   "metadata": {
    "collapsed": true,
    "ExecuteTime": {
     "end_time": "2025-06-12T01:49:38.501660Z",
     "start_time": "2025-06-12T01:47:50.363086Z"
    }
   },
   "source": [
    "# %% [markdown]\n",
    "# ## Task 3 – Embed & Index\n",
    "# Converts every code snippet into a 128-d CodeBERT vector and stores it in a FAISS\n",
    "# index for instant similarity search.\n",
    "\n",
    "# %% [code] ▸ 1 Imports & paths\n",
    "import json, pathlib, time\n",
    "import pandas as pd\n",
    "import numpy as np\n",
    "from tqdm.auto import tqdm\n",
    "from sklearn.decomposition import PCA\n",
    "from sklearn.preprocessing import normalize\n",
    "import faiss, torch\n",
    "\n",
    "from src.embed_utils import CodeBERTEmbedder, write_faiss_and_meta\n",
    "\n",
    "RAW_FILE  = pathlib.Path(\"../data/processed/master_data.jsonl\")   # or one of the split files\n",
    "OUT_DIR   = pathlib.Path(\"../data/embeddings\")\n",
    "OUT_DIR.mkdir(parents=True, exist_ok=True)\n",
    "\n",
    "CODE_FIELD = \"vulnerable_code\"   # same as Task 5 expects\n",
    "VECTOR_DIM = 128\n",
    "DEVICE     = \"cuda\" if torch.cuda.is_available() else \"cpu\"\n",
    "\n",
    "# %% [code] ▸ 2 Load raw or split files\n",
    "def load_jsonl(path: pathlib.Path) -> pd.DataFrame:\n",
    "    with path.open() as f:\n",
    "        rows = [json.loads(l) for l in f if l.strip()]\n",
    "    return pd.DataFrame(rows)\n",
    "\n",
    "df = load_jsonl(RAW_FILE) if RAW_FILE.suffix == \".jsonl\" else pd.concat(\n",
    "        [load_jsonl(p) for p in pathlib.Path(\"../data/splits\").glob(\"*.jsonl\")],\n",
    "        ignore_index=True\n",
    "     )\n",
    "print(\"Loaded\", len(df), \"rows\")\n",
    "display(df.head(2))\n",
    "\n",
    "# %% [code] ▸ 3 Embed\n",
    "embed = CodeBERTEmbedder(device=DEVICE)\n",
    "vecs, meta = [], []\n",
    "\n",
    "t0 = time.time()\n",
    "for i, row in tqdm(df.iterrows(), total=len(df), desc=\"Embedding\"):\n",
    "    vecs.append(embed(row[CODE_FIELD]))\n",
    "    meta.append({\n",
    "        \"row_id\": int(i),\n",
    "        \"cwe_id\": row.get(\"cwe_id\", \"NA\"),\n",
    "        \"label\":  row.get(\"is_vuln\", \"NA\")      # 1 / 0 if present\n",
    "    })\n",
    "vecs = np.stack(vecs)                          # (N, 768)\n",
    "print(f\"Embedding done in {time.time()-t0:.1f}s\")\n",
    "\n",
    "# ▸ 4 PCA → at most min(samples, 768) dims\n",
    "SAMPLES, ORIG_DIM = vecs.shape   # e.g. (39, 768)\n",
    "\n",
    "if VECTOR_DIM >= ORIG_DIM:          # asking for >=768 → skip PCA\n",
    "    print(\"Skipping PCA (VECTOR_DIM ≥ original dim).\")\n",
    "    final_vecs = normalize(vecs)\n",
    "\n",
    "else:\n",
    "    # ensure n_components ≤ samples-1  (sklearn restriction)\n",
    "    n_components = min(VECTOR_DIM, SAMPLES - 1)\n",
    "    if n_components < VECTOR_DIM:\n",
    "        print(f\"Dataset is small (N={SAMPLES}); \"\n",
    "              f\"shrinking PCA dim to {n_components}.\")\n",
    "    else:\n",
    "        print(f\"Running PCA to {n_components} dims …\")\n",
    "\n",
    "    from sklearn.decomposition import PCA\n",
    "    final_vecs = PCA(n_components=n_components,\n",
    "                     random_state=42).fit_transform(vecs).astype(np.float32)\n",
    "    final_vecs = normalize(final_vecs)\n",
    "\n",
    "# %% [code] ▸ 5 Save index + metadata & smoke test\n",
    "write_faiss_and_meta(\n",
    "    vecs,\n",
    "    meta,\n",
    "    out_index=OUT_DIR / \"embeddings.faiss\",\n",
    "    out_meta =OUT_DIR / \"embeddings.jsonl\"\n",
    ")\n",
    "\n",
    "index = faiss.read_index(str(OUT_DIR / \"embeddings.faiss\"))\n",
    "D, I = index.search(vecs[:1], k=3)\n",
    "with open(OUT_DIR / \"embeddings.jsonl\") as f:\n",
    "    meta_list = [json.loads(l) for l in f]\n",
    "print(\"Top-3 CWE IDs:\", [meta_list[idx][\"cwe_id\"] for idx in I[0]])\n"
   ],
   "outputs": [
    {
     "name": "stderr",
     "output_type": "stream",
     "text": [
      "C:\\Users\\nagar\\anaconda3\\envs\\hackathon_2025\\Lib\\site-packages\\tqdm\\auto.py:21: TqdmWarning: IProgress not found. Please update jupyter and ipywidgets. See https://ipywidgets.readthedocs.io/en/stable/user_install.html\n",
      "  from .autonotebook import tqdm as notebook_tqdm\n"
     ]
    },
    {
     "name": "stdout",
     "output_type": "stream",
     "text": [
      "Loaded 352 rows\n"
     ]
    },
    {
     "data": {
      "text/plain": [
       "    cwe_id                                    cwe_description  \\\n",
       "0  CWE-119  The product performs operations on a memory bu...   \n",
       "1  CWE-119  The product performs operations on a memory bu...   \n",
       "\n",
       "                                     vulnerable_code  \\\n",
       "0  #include <string.h>\\n#include <stdint.h>\\n#inc...   \n",
       "1  #include <string.h>\\n#include <stdint.h>\\n#inc...   \n",
       "\n",
       "                                          fixed_code analysis ,cwe_description  \n",
       "0  #include <string.h>\\n#include <stdint.h>\\n#inc...                       NaN  \n",
       "1  #include <string.h>\\n#include <stdint.h>\\n#inc...                       NaN  "
      ],
      "text/html": [
       "<div>\n",
       "<style scoped>\n",
       "    .dataframe tbody tr th:only-of-type {\n",
       "        vertical-align: middle;\n",
       "    }\n",
       "\n",
       "    .dataframe tbody tr th {\n",
       "        vertical-align: top;\n",
       "    }\n",
       "\n",
       "    .dataframe thead th {\n",
       "        text-align: right;\n",
       "    }\n",
       "</style>\n",
       "<table border=\"1\" class=\"dataframe\">\n",
       "  <thead>\n",
       "    <tr style=\"text-align: right;\">\n",
       "      <th></th>\n",
       "      <th>cwe_id</th>\n",
       "      <th>cwe_description</th>\n",
       "      <th>vulnerable_code</th>\n",
       "      <th>fixed_code</th>\n",
       "      <th>analysis</th>\n",
       "      <th>,cwe_description</th>\n",
       "    </tr>\n",
       "  </thead>\n",
       "  <tbody>\n",
       "    <tr>\n",
       "      <th>0</th>\n",
       "      <td>CWE-119</td>\n",
       "      <td>The product performs operations on a memory bu...</td>\n",
       "      <td>#include &lt;string.h&gt;\\n#include &lt;stdint.h&gt;\\n#inc...</td>\n",
       "      <td>#include &lt;string.h&gt;\\n#include &lt;stdint.h&gt;\\n#inc...</td>\n",
       "      <td></td>\n",
       "      <td>NaN</td>\n",
       "    </tr>\n",
       "    <tr>\n",
       "      <th>1</th>\n",
       "      <td>CWE-119</td>\n",
       "      <td>The product performs operations on a memory bu...</td>\n",
       "      <td>#include &lt;string.h&gt;\\n#include &lt;stdint.h&gt;\\n#inc...</td>\n",
       "      <td>#include &lt;string.h&gt;\\n#include &lt;stdint.h&gt;\\n#inc...</td>\n",
       "      <td></td>\n",
       "      <td>NaN</td>\n",
       "    </tr>\n",
       "  </tbody>\n",
       "</table>\n",
       "</div>"
      ]
     },
     "metadata": {},
     "output_type": "display_data"
    },
    {
     "name": "stderr",
     "output_type": "stream",
     "text": [
      "Embedding: 100%|██████████| 352/352 [01:39<00:00,  3.55it/s]"
     ]
    },
    {
     "name": "stdout",
     "output_type": "stream",
     "text": [
      "Embedding done in 99.1s\n",
      "Running PCA to 128 dims …\n",
      "💾  Saved 352 × 768 index → ..\\data\\embeddings\\embeddings.faiss\n",
      "Top-3 CWE IDs: ['CWE-119', 'CWE-119', 'CWE-119']\n"
     ]
    },
    {
     "name": "stderr",
     "output_type": "stream",
     "text": [
      "\n"
     ]
    }
   ],
   "execution_count": 1
  }
 ],
 "metadata": {
  "kernelspec": {
   "display_name": "Python 3",
   "language": "python",
   "name": "python3"
  },
  "language_info": {
   "codemirror_mode": {
    "name": "ipython",
    "version": 2
   },
   "file_extension": ".py",
   "mimetype": "text/x-python",
   "name": "python",
   "nbconvert_exporter": "python",
   "pygments_lexer": "ipython2",
   "version": "2.7.6"
  }
 },
 "nbformat": 4,
 "nbformat_minor": 5
}
